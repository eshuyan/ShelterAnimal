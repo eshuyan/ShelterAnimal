{
 "cells": [
  {
   "cell_type": "code",
   "execution_count": 1,
   "metadata": {
    "collapsed": true
   },
   "outputs": [],
   "source": [
    "import pandas as pd\n",
    "import numpy as np\n",
    "from sklearn.ensemble import RandomForestClassifier\n",
    "from sklearn import preprocessing, cross_validation"
   ]
  },
  {
   "cell_type": "code",
   "execution_count": 2,
   "metadata": {
    "collapsed": false
   },
   "outputs": [],
   "source": [
    "data = pd.read_csv('train.csv')"
   ]
  },
  {
   "cell_type": "code",
   "execution_count": 3,
   "metadata": {
    "collapsed": false
   },
   "outputs": [
    {
     "name": "stdout",
     "output_type": "stream",
     "text": [
      "{'tgt_col': ['OutcomeType'], 'num_cols': [], 'id_col': ['AnimalID'], 'cat_cols': ['Name', 'DateTime', 'AnimalType', 'SexuponOutcome', 'AgeuponOutcome', 'Breed', 'Color']}\n"
     ]
    }
   ],
   "source": [
    "data_types = data.dtypes  \n",
    "cat_cols = list(data_types[data_types=='object'].index)\n",
    "num_cols = list(data_types[data_types=='int64'].index) + list(data_types[data_types=='float64'].index)\n",
    "\n",
    "id_col = 'AnimalID'\n",
    "target_col = 'OutcomeType'\n",
    "\n",
    "data_params = dict()\n",
    "\n",
    "\n",
    "#Categorical columns:\n",
    "data_params['cat_cols'] = list(data_types[data_types=='object'].index)\n",
    "data_params['cat_cols'].remove('AnimalID')\n",
    "data_params['cat_cols'].remove('OutcomeType')\n",
    "data_params['cat_cols'].remove('OutcomeSubtype')\n",
    "\n",
    "#Numeric columns:\n",
    "data_params['num_cols'] = list(data_types[data_types=='int64'].index) + list(data_types[data_types=='float64'].index)\n",
    "\n",
    "#ID\n",
    "data_params['id_col'] = ['AnimalID']\n",
    "#Target\n",
    "data_params['tgt_col'] = ['OutcomeType']\n",
    "\n",
    "print (data_params)"
   ]
  },
  {
   "cell_type": "code",
   "execution_count": 4,
   "metadata": {
    "collapsed": false
   },
   "outputs": [
    {
     "name": "stdout",
     "output_type": "stream",
     "text": [
      "Label encoding  Name\n",
      "Label encoding  DateTime\n"
     ]
    },
    {
     "name": "stderr",
     "output_type": "stream",
     "text": [
      "C:\\Users\\jing\\Anaconda2\\lib\\site-packages\\numpy\\lib\\arraysetops.py:200: FutureWarning: numpy not_equal will not check object identity in the future. The comparison did not return the same result as suggested by the identity (`is`)) and will change.\n",
      "  flag = np.concatenate(([True], aux[1:] != aux[:-1]))\n",
      "C:\\Users\\jing\\Anaconda2\\lib\\site-packages\\numpy\\lib\\arraysetops.py:259: FutureWarning: numpy equal will not check object identity in the future. The comparison did not return the same result as suggested by the identity (`is`)) and will change.\n",
      "  return aux[:-1][aux[1:] == aux[:-1]]\n"
     ]
    },
    {
     "name": "stdout",
     "output_type": "stream",
     "text": [
      "Label encoding  AnimalType\n",
      "Label encoding  SexuponOutcome\n",
      "Label encoding  AgeuponOutcome\n",
      "Label encoding  Breed\n",
      "Label encoding  Color\n"
     ]
    }
   ],
   "source": [
    "#Proprocessing: Label encoding Categorical columns this works well for tree-based models \n",
    "for col in data_params['cat_cols']:\n",
    "    print (\"Label encoding  %s\" % (col))\n",
    "    LBL = preprocessing.LabelEncoder()\n",
    "    LBL.fit(data[col])\n",
    "    data[col]=LBL.transform(data[col])"
   ]
  },
  {
   "cell_type": "code",
   "execution_count": 5,
   "metadata": {
    "collapsed": false
   },
   "outputs": [],
   "source": [
    "#Label target    \n",
    "LBL = preprocessing.LabelEncoder()\n",
    "LBL.fit(data['OutcomeType'])\n",
    "tgt_cls = dict(zip(data['OutcomeType'].unique()\n",
    "               , LBL.transform(data['OutcomeType'].unique())))"
   ]
  },
  {
   "cell_type": "code",
   "execution_count": 6,
   "metadata": {
    "collapsed": false
   },
   "outputs": [
    {
     "data": {
      "text/plain": [
       "{'Adoption': 0,\n",
       " 'Died': 1,\n",
       " 'Euthanasia': 2,\n",
       " 'Return_to_owner': 3,\n",
       " 'Transfer': 4}"
      ]
     },
     "execution_count": 6,
     "metadata": {},
     "output_type": "execute_result"
    }
   ],
   "source": [
    "tgt_cls"
   ]
  },
  {
   "cell_type": "code",
   "execution_count": 7,
   "metadata": {
    "collapsed": true
   },
   "outputs": [],
   "source": [
    "data['OutcomeType']=LBL.transform(data['OutcomeType'])"
   ]
  },
  {
   "cell_type": "code",
   "execution_count": 8,
   "metadata": {
    "collapsed": true
   },
   "outputs": [],
   "source": [
    "train, validation = cross_validation.train_test_split(data, test_size = 0.2, random_state= 0)"
   ]
  },
  {
   "cell_type": "code",
   "execution_count": 9,
   "metadata": {
    "collapsed": false
   },
   "outputs": [
    {
     "name": "stderr",
     "output_type": "stream",
     "text": [
      "C:\\Users\\jing\\Anaconda2\\lib\\site-packages\\ipykernel\\__main__.py:7: DataConversionWarning: A column-vector y was passed when a 1d array was expected. Please change the shape of y to (n_samples,), for example using ravel().\n"
     ]
    }
   ],
   "source": [
    "simple_model = RandomForestClassifier(n_estimators=100, criterion='entropy',\n",
    "                                max_features=0.5, max_depth=10,\n",
    "                                oob_score=True)\n",
    "full_cols = data_params['cat_cols'] + data_params['num_cols']\n",
    "train_X = train[full_cols].values\n",
    "train_y = train[data_params['tgt_col']].values\n",
    "simple_model = simple_model.fit(train_X,train_y)"
   ]
  },
  {
   "cell_type": "code",
   "execution_count": 10,
   "metadata": {
    "collapsed": false
   },
   "outputs": [
    {
     "data": {
      "text/plain": [
       "0.63075196408529743"
      ]
     },
     "execution_count": 10,
     "metadata": {},
     "output_type": "execute_result"
    }
   ],
   "source": [
    "validation_X = validation[full_cols].values\n",
    "validation_y = validation[data_params['tgt_col']].values\n",
    "cv = simple_model.score(validation_X, validation_y )\n",
    "cv"
   ]
  },
  {
   "cell_type": "markdown",
   "metadata": {
    "collapsed": true
   },
   "source": [
    "Let's engineer the name by its length"
   ]
  },
  {
   "cell_type": "code",
   "execution_count": 11,
   "metadata": {
    "collapsed": false
   },
   "outputs": [],
   "source": [
    "tmp_data = pd.read_csv('train.csv')"
   ]
  },
  {
   "cell_type": "code",
   "execution_count": 12,
   "metadata": {
    "collapsed": true
   },
   "outputs": [],
   "source": [
    "def name_length(name):\n",
    "    if type(name) is str:\n",
    "        return len(name)\n",
    "    else:\n",
    "        return 0\n",
    "data['LengthofName'] = tmp_data['Name'].apply(name_length)"
   ]
  },
  {
   "cell_type": "code",
   "execution_count": 13,
   "metadata": {
    "collapsed": false
   },
   "outputs": [],
   "source": [
    "data_params['cat_cols'].remove('Name')"
   ]
  },
  {
   "cell_type": "code",
   "execution_count": 14,
   "metadata": {
    "collapsed": false
   },
   "outputs": [],
   "source": [
    "\n",
    "data_params['num_cols'].append('LengthofName')"
   ]
  },
  {
   "cell_type": "code",
   "execution_count": 15,
   "metadata": {
    "collapsed": false
   },
   "outputs": [
    {
     "data": {
      "text/html": [
       "<div>\n",
       "<table border=\"1\" class=\"dataframe\">\n",
       "  <thead>\n",
       "    <tr style=\"text-align: right;\">\n",
       "      <th></th>\n",
       "      <th>AnimalID</th>\n",
       "      <th>Name</th>\n",
       "      <th>DateTime</th>\n",
       "      <th>OutcomeType</th>\n",
       "      <th>OutcomeSubtype</th>\n",
       "      <th>AnimalType</th>\n",
       "      <th>SexuponOutcome</th>\n",
       "      <th>AgeuponOutcome</th>\n",
       "      <th>Breed</th>\n",
       "      <th>Color</th>\n",
       "      <th>LengthofName</th>\n",
       "    </tr>\n",
       "  </thead>\n",
       "  <tbody>\n",
       "    <tr>\n",
       "      <th>0</th>\n",
       "      <td>A671945</td>\n",
       "      <td>2352</td>\n",
       "      <td>3361</td>\n",
       "      <td>3</td>\n",
       "      <td>NaN</td>\n",
       "      <td>1</td>\n",
       "      <td>3</td>\n",
       "      <td>6</td>\n",
       "      <td>1221</td>\n",
       "      <td>130</td>\n",
       "      <td>7</td>\n",
       "    </tr>\n",
       "    <tr>\n",
       "      <th>1</th>\n",
       "      <td>A656520</td>\n",
       "      <td>1848</td>\n",
       "      <td>350</td>\n",
       "      <td>2</td>\n",
       "      <td>Suffering</td>\n",
       "      <td>0</td>\n",
       "      <td>4</td>\n",
       "      <td>6</td>\n",
       "      <td>640</td>\n",
       "      <td>167</td>\n",
       "      <td>5</td>\n",
       "    </tr>\n",
       "    <tr>\n",
       "      <th>2</th>\n",
       "      <td>A686464</td>\n",
       "      <td>4441</td>\n",
       "      <td>12681</td>\n",
       "      <td>0</td>\n",
       "      <td>Foster</td>\n",
       "      <td>1</td>\n",
       "      <td>3</td>\n",
       "      <td>22</td>\n",
       "      <td>1066</td>\n",
       "      <td>86</td>\n",
       "      <td>6</td>\n",
       "    </tr>\n",
       "    <tr>\n",
       "      <th>3</th>\n",
       "      <td>A683430</td>\n",
       "      <td>0</td>\n",
       "      <td>7190</td>\n",
       "      <td>4</td>\n",
       "      <td>Partner</td>\n",
       "      <td>0</td>\n",
       "      <td>2</td>\n",
       "      <td>26</td>\n",
       "      <td>640</td>\n",
       "      <td>42</td>\n",
       "      <td>0</td>\n",
       "    </tr>\n",
       "    <tr>\n",
       "      <th>4</th>\n",
       "      <td>A667013</td>\n",
       "      <td>0</td>\n",
       "      <td>1233</td>\n",
       "      <td>4</td>\n",
       "      <td>Partner</td>\n",
       "      <td>1</td>\n",
       "      <td>3</td>\n",
       "      <td>22</td>\n",
       "      <td>914</td>\n",
       "      <td>274</td>\n",
       "      <td>0</td>\n",
       "    </tr>\n",
       "  </tbody>\n",
       "</table>\n",
       "</div>"
      ],
      "text/plain": [
       "  AnimalID  Name  DateTime  OutcomeType OutcomeSubtype  AnimalType  \\\n",
       "0  A671945  2352      3361            3            NaN           1   \n",
       "1  A656520  1848       350            2      Suffering           0   \n",
       "2  A686464  4441     12681            0         Foster           1   \n",
       "3  A683430     0      7190            4        Partner           0   \n",
       "4  A667013     0      1233            4        Partner           1   \n",
       "\n",
       "   SexuponOutcome  AgeuponOutcome  Breed  Color  LengthofName  \n",
       "0               3               6   1221    130             7  \n",
       "1               4               6    640    167             5  \n",
       "2               3              22   1066     86             6  \n",
       "3               2              26    640     42             0  \n",
       "4               3              22    914    274             0  "
      ]
     },
     "execution_count": 15,
     "metadata": {},
     "output_type": "execute_result"
    }
   ],
   "source": [
    "data.head()"
   ]
  },
  {
   "cell_type": "code",
   "execution_count": 16,
   "metadata": {
    "collapsed": false
   },
   "outputs": [
    {
     "name": "stderr",
     "output_type": "stream",
     "text": [
      "C:\\Users\\jing\\Anaconda2\\lib\\site-packages\\ipykernel\\__main__.py:8: DataConversionWarning: A column-vector y was passed when a 1d array was expected. Please change the shape of y to (n_samples,), for example using ravel().\n"
     ]
    }
   ],
   "source": [
    "train, validation = cross_validation.train_test_split(data, test_size = 0.2, random_state= 0)\n",
    "name_model = RandomForestClassifier(n_estimators=100, criterion='entropy',\n",
    "                                max_features=0.5, max_depth=10,\n",
    "                                oob_score=True)\n",
    "full_cols = data_params['cat_cols'] + data_params['num_cols']\n",
    "train_X = train[full_cols].values\n",
    "train_y = train[data_params['tgt_col']].values\n",
    "name_model =name_model.fit(train_X,train_y)"
   ]
  },
  {
   "cell_type": "code",
   "execution_count": 17,
   "metadata": {
    "collapsed": false
   },
   "outputs": [
    {
     "data": {
      "text/plain": [
       "0.63374485596707819"
      ]
     },
     "execution_count": 17,
     "metadata": {},
     "output_type": "execute_result"
    }
   ],
   "source": [
    "validation_X = validation[full_cols].values\n",
    "validation_y = validation[data_params['tgt_col']].values\n",
    "cv = name_model.score(validation_X, validation_y )\n",
    "cv"
   ]
  },
  {
   "cell_type": "code",
   "execution_count": 18,
   "metadata": {
    "collapsed": true
   },
   "outputs": [],
   "source": [
    "data_params['cat_cols'].append('Name')\n",
    "data_params['num_cols'].remove('LengthofName')"
   ]
  },
  {
   "cell_type": "code",
   "execution_count": 19,
   "metadata": {
    "collapsed": false
   },
   "outputs": [
    {
     "data": {
      "text/plain": [
       "['DateTime',\n",
       " 'AnimalType',\n",
       " 'SexuponOutcome',\n",
       " 'AgeuponOutcome',\n",
       " 'Breed',\n",
       " 'Color',\n",
       " 'Name']"
      ]
     },
     "execution_count": 19,
     "metadata": {},
     "output_type": "execute_result"
    }
   ],
   "source": [
    "data_params['cat_cols']"
   ]
  },
  {
   "cell_type": "markdown",
   "metadata": {},
   "source": [
    "Let's transform the age"
   ]
  },
  {
   "cell_type": "code",
   "execution_count": 20,
   "metadata": {
    "collapsed": true
   },
   "outputs": [],
   "source": [
    "def age_to_day(age):\n",
    "    if type(age) is str:\n",
    "        if 'day' in age:\n",
    "            age_to_day = int(age.split(' ')[0])\n",
    "        elif 'week' in age:\n",
    "            age_to_day = int(age.split(' ')[0])*7\n",
    "        elif 'month' in age:\n",
    "            age_to_day = int(age.split(' ')[0])*30\n",
    "        elif 'year' in age:\n",
    "            age_to_day = int(age.split(' ')[0])*365\n",
    "    else:\n",
    "        age_to_day = 0\n",
    "    return age_to_day"
   ]
  },
  {
   "cell_type": "code",
   "execution_count": 21,
   "metadata": {
    "collapsed": true
   },
   "outputs": [],
   "source": [
    "data['Ageindays'] = tmp_data['AgeuponOutcome'].apply(age_to_day)"
   ]
  },
  {
   "cell_type": "code",
   "execution_count": 22,
   "metadata": {
    "collapsed": true
   },
   "outputs": [],
   "source": [
    "data_params['cat_cols'].remove('AgeuponOutcome')\n",
    "data_params['num_cols'].append('Ageindays')"
   ]
  },
  {
   "cell_type": "code",
   "execution_count": 23,
   "metadata": {
    "collapsed": false
   },
   "outputs": [
    {
     "name": "stderr",
     "output_type": "stream",
     "text": [
      "C:\\Users\\jing\\Anaconda2\\lib\\site-packages\\ipykernel\\__main__.py:8: DataConversionWarning: A column-vector y was passed when a 1d array was expected. Please change the shape of y to (n_samples,), for example using ravel().\n"
     ]
    }
   ],
   "source": [
    "train, validation = cross_validation.train_test_split(data, test_size = 0.2, random_state= 0)\n",
    "age_model = RandomForestClassifier(n_estimators=100, criterion='entropy',\n",
    "                                max_features=0.5, max_depth=10,\n",
    "                                oob_score=True)\n",
    "full_cols = data_params['cat_cols'] + data_params['num_cols']\n",
    "train_X = train[full_cols].values\n",
    "train_y = train[data_params['tgt_col']].values\n",
    "age_model =age_model.fit(train_X,train_y)"
   ]
  },
  {
   "cell_type": "code",
   "execution_count": 24,
   "metadata": {
    "collapsed": false
   },
   "outputs": [
    {
     "data": {
      "text/plain": [
       "0.65057987280209506"
      ]
     },
     "execution_count": 24,
     "metadata": {},
     "output_type": "execute_result"
    }
   ],
   "source": [
    "validation_X = validation[full_cols].values\n",
    "validation_y = validation[data_params['tgt_col']].values\n",
    "cv = age_model.score(validation_X, validation_y )\n",
    "cv"
   ]
  },
  {
   "cell_type": "markdown",
   "metadata": {},
   "source": [
    "Aha, enginerring the age helps performance!Let's add datetime!"
   ]
  },
  {
   "cell_type": "code",
   "execution_count": 25,
   "metadata": {
    "collapsed": false
   },
   "outputs": [
    {
     "name": "stderr",
     "output_type": "stream",
     "text": [
      "C:\\Users\\jing\\Anaconda2\\lib\\site-packages\\ipykernel\\__main__.py:1: FutureWarning: the coerce=True keyword is deprecated, use errors='coerce' instead\n",
      "  if __name__ == '__main__':\n"
     ]
    }
   ],
   "source": [
    "tmp_data['DateTime'] =  pd.to_datetime(tmp_data['DateTime'], coerce=True)"
   ]
  },
  {
   "cell_type": "code",
   "execution_count": 26,
   "metadata": {
    "collapsed": true
   },
   "outputs": [],
   "source": [
    "data[\"DateTime\"+'_year']=tmp_data[\"DateTime\"].dt.year\n",
    "data[\"DateTime\"+'_month']=tmp_data[\"DateTime\"].dt.month\n",
    "data[\"DateTime\"+'_day']=tmp_data[\"DateTime\"].dt.day\n",
    "data[\"DateTime\"+'_dayofweek']=tmp_data[\"DateTime\"].dt.dayofweek\n",
    "data[\"DateTime\"+'_weekofyear']=tmp_data[\"DateTime\"].dt.weekofyear\n",
    "data[\"DateTime\"+'_dayofyear'] = tmp_data[\"DateTime\"].dt.dayofyear\n",
    "data[\"DateTime\"+'_quarter'] = tmp_data[\"DateTime\"].dt.quarter\n",
    "data[\"DateTime\"+'_hour'] = tmp_data[\"DateTime\"].dt.hour\n",
    "data_params['num_cols'].append(\"DateTime\"+'_year')\n",
    "data_params['num_cols'].append(\"DateTime\"+'_month')\n",
    "data_params['num_cols'].append(\"DateTime\"+'_day')\n",
    "data_params['num_cols'].append(\"DateTime\"+'_dayofweek')\n",
    "data_params['num_cols'].append(\"DateTime\"+'_weekofyear')\n",
    "data_params['num_cols'].append(\"DateTime\"+'_dayofyear')\n",
    "data_params['num_cols'].append(\"DateTime\"+'_quarter')\n",
    "data_params['num_cols'].append(\"DateTime\"+'_hour') "
   ]
  },
  {
   "cell_type": "code",
   "execution_count": 27,
   "metadata": {
    "collapsed": false
   },
   "outputs": [
    {
     "name": "stderr",
     "output_type": "stream",
     "text": [
      "C:\\Users\\jing\\Anaconda2\\lib\\site-packages\\ipykernel\\__main__.py:8: DataConversionWarning: A column-vector y was passed when a 1d array was expected. Please change the shape of y to (n_samples,), for example using ravel().\n"
     ]
    }
   ],
   "source": [
    "train, validation = cross_validation.train_test_split(data, test_size = 0.2, random_state= 0)\n",
    "date_model = RandomForestClassifier(n_estimators=100, criterion='entropy',\n",
    "                                max_features=0.5, max_depth=10,\n",
    "                                oob_score=True)\n",
    "full_cols = data_params['cat_cols'] + data_params['num_cols']\n",
    "train_X = train[full_cols].values\n",
    "train_y = train[data_params['tgt_col']].values\n",
    "date_model =date_model.fit(train_X,train_y)"
   ]
  },
  {
   "cell_type": "code",
   "execution_count": 28,
   "metadata": {
    "collapsed": false
   },
   "outputs": [
    {
     "data": {
      "text/plain": [
       "0.68649457538346426"
      ]
     },
     "execution_count": 28,
     "metadata": {},
     "output_type": "execute_result"
    }
   ],
   "source": [
    "validation_X = validation[full_cols].values\n",
    "validation_y = validation[data_params['tgt_col']].values\n",
    "cv = date_model.score(validation_X, validation_y )\n",
    "cv"
   ]
  },
  {
   "cell_type": "markdown",
   "metadata": {},
   "source": [
    "Future direction:\n",
    "\n",
    "1. The trees used here is very simple. Using complicated tree (over-fit??)\n",
    "2. Boosting.\n",
    "3. Enginerring more features (like breed/color)\n"
   ]
  },
  {
   "cell_type": "code",
   "execution_count": null,
   "metadata": {
    "collapsed": true
   },
   "outputs": [],
   "source": []
  }
 ],
 "metadata": {
  "kernelspec": {
   "display_name": "Python 2",
   "language": "python",
   "name": "python2"
  },
  "language_info": {
   "codemirror_mode": {
    "name": "ipython",
    "version": 2
   },
   "file_extension": ".py",
   "mimetype": "text/x-python",
   "name": "python",
   "nbconvert_exporter": "python",
   "pygments_lexer": "ipython2",
   "version": "2.7.11"
  }
 },
 "nbformat": 4,
 "nbformat_minor": 0
}
